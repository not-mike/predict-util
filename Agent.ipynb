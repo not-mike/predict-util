{
 "cells": [
  {
   "cell_type": "code",
   "execution_count": 3,
   "metadata": {
    "collapsed": true
   },
   "outputs": [],
   "source": [
    "import numpy as np\n",
    "import uuid"
   ]
  },
  {
   "cell_type": "code",
   "execution_count": 4,
   "metadata": {
    "collapsed": false
   },
   "outputs": [],
   "source": [
    "class Gambler(object):\n",
    "    \"\"\"This class will represent the agents in my model, who I term gamblers.\n",
    "    They love to gamble. They don't mind risk in the least. In fact, they love\n",
    "    highly volatile gambling events. Many of them will soon be broke.\"\"\"\n",
    "    \n",
    "    def __init__(self, funds=1000):\n",
    "        self.name = uuid.uuid4()\n",
    "        self.funds = funds \n",
    "        self.shares = 0\n",
    "        self.wagers = 0\n",
    "        self.getBelief()\n",
    "\n",
    "    def getBelief(self):\n",
    "        \"\"\"Establishes an internal range of belief around some unknown event.\"\"\"\n",
    "        self.mu = np.random.normal(0.5,0.25)\n",
    "        self.sigma = np.random.normal(0.2, 0.1)\n",
    "        \n",
    "    def getAverage(self):\n",
    "        \"\"\"Returns average cost basis across all bets\"\"\"\n",
    "        if self.shares > 0:\n",
    "            self.average = self.wagers/self.shares\n",
    "            return self.average\n",
    "        else: return \"You're a bum! (you have no skin in teh game)\"\n",
    "    \n",
    "    def biasedFlip(self, price):\n",
    "        \"\"\"Decision rule for buying, selling, or holding\"\"\"\n",
    "        p = (self.mu + self.sigma - price) / (2.0 * self.sigma)\n",
    "        return np.random.random() <= p\n",
    "    \n",
    "    def decideTrade(self, price):\n",
    "        \"\"\"Implementation of decision rule\"\"\"\n",
    "        if price < min(self.belief):\n",
    "            while price < self.getAverage() and funds >= price:\n",
    "                self.buy(price)\n",
    "        if price > max(self.belief):\n",
    "            while shares != 0:\n",
    "                self.sell(price)\n",
    "        if min(self.belief) < price < max(self.belief):\n",
    "            if self.biasedFlip(price):\n",
    "                while price < self.getAverage() and funds >= price:\n",
    "                    self.buy(price)\n",
    "            else: return \"I don't know what to do!!!\", str(self)\n",
    "            \n",
    "    def buy(self, price, N=1):\n",
    "        if self.funds >= N * price:\n",
    "            self.funds -= N * price\n",
    "            self.wagers += N * price\n",
    "            self.shares += N\n",
    "        else: return \"You're a bum! (price exceeds funds)\"\n",
    "    \n",
    "    def sell(self, price, N=1):\n",
    "        if self.shares > 0:\n",
    "            self.shares -= N\n",
    "            self.wagers -= N * price\n",
    "            self.funds += N * price\n",
    "        else: return \"You're a bum! (shares = 0)\"\n",
    "        \n",
    "    def __str__(self):\n",
    "        s = (\"Agent ID: {0} \\n\"\n",
    "        \"Funds: {1} \\n\"\n",
    "        \"Shares: {2} \\n\"\n",
    "        \"Belief HIGH: {3} \\n\"\n",
    "        \"Belief LOW: {4}\").format(self.name, self.funds, self.shares, (self.mu + self.sigma), (self.mu - self.sigma)) \n",
    "        return s"
   ]
  },
  {
   "cell_type": "markdown",
   "metadata": {},
   "source": [
    "# Test Agents\n"
   ]
  },
  {
   "cell_type": "code",
   "execution_count": 5,
   "metadata": {
    "collapsed": false
   },
   "outputs": [
    {
     "name": "stdout",
     "output_type": "stream",
     "text": [
      "Min Belief: 0.166269580981 Max Belief: 0.172181970136\n",
      "Testing Rule: Output should read 'TRUE' 'FALSE' (usually)\n",
      "True\n",
      "False\n"
     ]
    }
   ],
   "source": [
    "agent = Gambler()\n",
    "print \"Min Belief: \" + str(agent.mu - agent.sigma), \"Max Belief: \" + str(agent.mu + agent.sigma)\n",
    "print \"Testing Rule: Output should read \\'TRUE' \\'FALSE' (usually)\"\n",
    "print agent.biasedFlip(agent.mu - agent.sigma)\n",
    "print agent.biasedFlip(agent.mu + agent.sigma)"
   ]
  },
  {
   "cell_type": "code",
   "execution_count": 6,
   "metadata": {
    "collapsed": false
   },
   "outputs": [
    {
     "name": "stdout",
     "output_type": "stream",
     "text": [
      "Agent ID: 883c37f3-f345-4827-92a5-3972a1136032 \n",
      "Funds: 1000 \n",
      "Shares: 0 \n",
      "Belief HIGH: 0.172181970136 \n",
      "Belief LOW: 0.166269580981\n"
     ]
    }
   ],
   "source": [
    "print str(agent)"
   ]
  }
 ],
 "metadata": {
  "kernelspec": {
   "display_name": "Python 2",
   "language": "python",
   "name": "python2"
  },
  "language_info": {
   "codemirror_mode": {
    "name": "ipython",
    "version": 2
   },
   "file_extension": ".py",
   "mimetype": "text/x-python",
   "name": "python",
   "nbconvert_exporter": "python",
   "pygments_lexer": "ipython2",
   "version": "2.7.11"
  }
 },
 "nbformat": 4,
 "nbformat_minor": 0
}
