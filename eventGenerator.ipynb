{
 "cells": [
  {
   "cell_type": "code",
   "execution_count": 56,
   "metadata": {
    "collapsed": false
   },
   "outputs": [],
   "source": [
    "%matplotlib inline\n",
    "\n",
    "import numpy as np\n",
    "import scipy.stats as stats\n",
    "import VarGamma as vg\n",
    "import matplotlib.pyplot as plt\n",
    "#import time\n",
    "\n",
    "class randomBinary(object):\n",
    "    \"\"\"This is my own class that will generate various random binary events.\n",
    "    I still need to tweak it a bit to be more realistic, but if we are willing\n",
    "    to assume that these markets are not efficient, and rather that they are a\n",
    "    reflection of a bunch of people, with low levels of information, who really \n",
    "    just love to gamble on pretty unpredictable events we can maybe draw some\n",
    "    interesting conclusions. Fixing the distributions to be more realistic\n",
    "    is obviously a good next step, but this will allow me to focus on agents for\n",
    "    a bit.\n",
    "    \"\"\"\n",
    "    \n",
    "    def __init__(self):\n",
    "        #self.start = time.clock()\n",
    "        self.prices, self.pricesNO = [], []\n",
    "        #self.offers, self.offersNO = {}, {}\n",
    "        \n",
    "        # This tests the offer timing system. I will deprecate it later.\n",
    "        #for i in np.arange(1,100,1):\n",
    "        #    timestamp = np.int((time.clock()-self.start) * 10**6)\n",
    "        #    self.offers[i] = (timestamp,'TestGambler',np.random.randint(-100,100))\n",
    "        #    self.offers_no[i] = (timestamp,'TestGambler',0)\n",
    "        \n",
    "    def genVarGamma_beta(self, alpha, beta, mu, sigma, theta, nu, plot=False):\n",
    "        \"\"\"Generates 100 random variables that are variance gamma distriuted and\n",
    "        then filtered through a beta distribution for scaling.\n",
    "        \n",
    "        ***THIS SEEMS TO WORK***\n",
    "        \"\"\"\n",
    "        \n",
    "        t = np.arange(0,1,step=.01)\n",
    "        self.prices = [np.random.binomial(1,.5)]   \n",
    "        \n",
    "        signal = vg.rnd(100, mu, sigma, theta, nu)\n",
    "        res = stats.betai(alpha, beta, np.abs(signal))\n",
    "        \n",
    "        for i in res:\n",
    "            self.prices.append(i)\n",
    "            \n",
    "        self.prices = list(reversed(self.prices))\n",
    "        self.prices = np.around(self.prices,decimals=2)\n",
    "        self.prices_no = [abs(1-x) for x in self.prices]\n",
    "        self.prices_no = np.around(self.prices_no,decimals=2)\n",
    "        \n",
    "        if plot == True:\n",
    "            plt.plot(self.prices)\n",
    "    \n",
    "    def genABM_beta(self, alpha, beta, mu, sigma, plot=False):\n",
    "        \"\"\"This function produces a time-series based on Arithmetic Brownian\n",
    "        Motion (ABM), filtered through a beta distribution for scaling.\n",
    "        \n",
    "        ***THIS NEEDS WORK***\n",
    "        \"\"\"\n",
    "\n",
    "        t = np.arange(0,1,step=.01)\n",
    "        self.prices = [np.random.binomial(1,.5)]\n",
    "        Wt = np.cumsum(np.random.randn(100))\n",
    "        \n",
    "        signal = self.prices[0] + ((mu-sigma**2/2)*t + sigma*Wt)\n",
    "        res = stats.betai(alpha, beta, abs(signal/max(signal)))\n",
    "        \n",
    "        for i in res:\n",
    "            self.prices.append(i)\n",
    "                \n",
    "        self.prices = list(reversed(self.prices))\n",
    "        self.prices = np.around(self.prices,decimals=2)\n",
    "        self.prices_no = [abs(1-x) for x in self.prices]\n",
    "        self.prices_no = np.around(self.prices_no,decimals=2)\n",
    "    \n",
    "        if plot == True:\n",
    "            plt.plot(self.prices)\n",
    "            \n",
    "    def genABM(self, mu, sigma, plot=False):\n",
    "        \"\"\"This function produces a time-series based on Arithmetic Brownian\n",
    "        Motion (ABM), filtered through a logit distribution for scaling.\n",
    "        \n",
    "        ***THIS NEEDS WORK***\n",
    "        \"\"\"\n",
    "        \n",
    "        t = np.arange(0,1,step=.01)\n",
    "        self.prices = [np.random.binomial(1,.5)]\n",
    "        Wt = np.cumsum(np.random.randn(100))\n",
    "        \n",
    "        signal = self.prices[0] + ((mu-sigma**2/2)*t + sigma*Wt)\n",
    "        res = [(i-min(signal))/(max(signal)-min(signal)) for i in signal]\n",
    "        \n",
    "        for i in res:\n",
    "            self.prices.append(i)\n",
    "\n",
    "        self.prices = list(reversed(self.prices))\n",
    "        self.prices = np.around(self.prices,decimals=2)\n",
    "        self.prices_no = [abs(1-x) for x in self.prices]\n",
    "        self.prices_no = np.around(self.prices_no,decimals=2)\n",
    "        \n",
    "        if plot == True:\n",
    "            plt.plot(self.prices)\n",
    "            \n",
    "    def genGBM(self, alpha, beta, mu, sigma):\n",
    "        \"\"\"This function produces a time-series based on Geometric Brownian\n",
    "        Motion (GBM), filtered through a beta distribution for scaling.\n",
    "        ***THIS NEEDS WORK***\n",
    "        \"\"\"\n",
    "        \n",
    "        self.prices = [np.random.binomial(1,.5)]\n",
    "        t = np.arange(0,1,step=.01)\n",
    "        S0 = np.random.random()\n",
    "        Wt = np.cumsum(np.random.randn(100))\n",
    "        \n",
    "        signal = S0 * np.exp((mu-sigma**2/2)*t + sigma*Wt)\n",
    "        res = stats.betai(alpha, beta, abs(signal/max(signal)))\n",
    "        \n",
    "        for i in res:\n",
    "            self.prices.append(i)\n",
    "\n",
    "        self.prices = list(reversed(self.prices))\n",
    "        self.prices = np.around(self.prices,decimals=2)\n",
    "        self.prices_no = [abs(1-x) for x in self.prices]\n",
    "        self.prices_no = np.around(self.prices_no,decimals=2)"
   ]
  },
  {
   "cell_type": "code",
   "execution_count": 57,
   "metadata": {
    "collapsed": true
   },
   "outputs": [],
   "source": [
    "testEvent = randomBinary()"
   ]
  },
  {
   "cell_type": "code",
   "execution_count": 58,
   "metadata": {
    "collapsed": false
   },
   "outputs": [
    {
     "name": "stdout",
     "output_type": "stream",
     "text": [
      "[ 0.21  0.11  0.23  0.18  0.22  0.3   0.08  0.18  0.25  0.12  0.12  0.3\n",
      "  0.16  0.13  0.19  0.23  0.2   0.24  0.19  0.14  0.13  0.22  0.14  0.25\n",
      "  0.18  0.31  0.07  0.07  0.1   0.3   0.21  0.31  0.31  0.09  0.23  0.37\n",
      "  0.21  0.24  0.27  0.22  0.21  0.34  0.28  0.18  0.22  0.22  0.14  0.27\n",
      "  0.26  0.34  0.16  0.25  0.24  0.32  0.25  0.22  0.19  0.19  0.09  0.06\n",
      "  0.15  0.33  0.14  0.16  0.25  0.16  0.25  0.3   0.18  0.18  0.29  0.26\n",
      "  0.23  0.18  0.13  0.07  0.31  0.17  0.26  0.31  0.1   0.21  0.07  0.22\n",
      "  0.34  0.27  0.23  0.23  0.07  0.2   0.33  0.17  0.13  0.24  0.23  0.2\n",
      "  0.25  0.18  0.12  0.24  0.  ]\n"
     ]
    },
    {
     "data": {
      "image/png": "[encoded data removed]",
      "text/plain": [
       "<matplotlib.figure.Figure at 0x1070987d0>"
      ]
     },
     "metadata": {},
     "output_type": "display_data"
    }
   ],
   "source": [
    "testEvent.genVarGamma_beta(0.5, 0.5, 0, 0.1, 0.1, 0.1, plot=True)\n",
    "print testEvent.prices"
   ]
  },
  {
   "cell_type": "code",
   "execution_count": 62,
   "metadata": {
    "collapsed": false
   },
   "outputs": [
    {
     "name": "stdout",
     "output_type": "stream",
     "text": [
      "[ 0.74  0.71  0.79  0.79  0.79  0.78  0.69  0.67  0.68  0.68  0.74  0.8\n",
      "  0.81  0.67  0.71  0.66  0.76  0.74  0.64  0.6   0.54  0.58  0.63  0.63\n",
      "  0.65  0.71  0.69  0.72  0.72  0.73  0.72  0.74  0.82  0.83  0.83  0.78\n",
      "  0.92  1.    0.87  0.85  0.84  0.8   0.79  0.72  0.77  0.81  0.83  0.75\n",
      "  0.7   0.7   0.67  0.77  0.77  0.76  0.77  0.69  0.69  0.6   0.57  0.58\n",
      "  0.62  0.56  0.56  0.54  0.53  0.49  0.45  0.44  0.33  0.33  0.39  0.4\n",
      "  0.34  0.31  0.3   0.31  0.35  0.32  0.29  0.27  0.48  0.45  0.54  0.5\n",
      "  0.46  0.47  0.41  0.41  0.42  0.31  0.26  0.27  0.21  0.15  0.1   0.08\n",
      "  0.    0.    0.03  0.07  0.  ]\n"
     ]
    },
    {
     "data": {
      "image/png": "[encoded data removed]",
      "text/plain": [
       "<matplotlib.figure.Figure at 0x107315b10>"
      ]
     },
     "metadata": {},
     "output_type": "display_data"
    }
   ],
   "source": [
    "testEvent.genABM(0, 1, plot=True)\n",
    "print testEvent.prices"
   ]
  }
 ],
 "metadata": {
  "kernelspec": {
   "display_name": "Python 2",
   "language": "python",
   "name": "python2"
  },
  "language_info": {
   "codemirror_mode": {
    "name": "ipython",
    "version": 2
   },
   "file_extension": ".py",
   "mimetype": "text/x-python",
   "name": "python",
   "nbconvert_exporter": "python",
   "pygments_lexer": "ipython2",
   "version": "2.7.11"
  }
 },
 "nbformat": 4,
 "nbformat_minor": 0
}
